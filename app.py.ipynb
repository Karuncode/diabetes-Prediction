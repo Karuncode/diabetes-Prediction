{
 "cells": [
  {
   "cell_type": "code",
   "execution_count": 3,
   "id": "838076b2",
   "metadata": {},
   "outputs": [],
   "source": [
    "import streamlit as st\n",
    "import joblib\n",
    "import pandas as pd\n",
    "from PIL import Image\n",
    "\n",
    "@st.cache(allow_output_mutation=True)\n",
    "def load(scaler_path, model_path):\n",
    "    sc = joblib.load(scaler_path)\n",
    "    model = joblib.load(model_path)\n",
    "    return sc , model\n",
    "\n",
    "def inference(row, scaler, model, feat_cols):\n",
    "    df = pd.DataFrame([row], columns = feat_cols)\n",
    "    X = scaler.transform(df)\n",
    "    features = pd.DataFrame(X, columns = feat_cols)\n",
    "    if (model.predict(features)==0):\n",
    "        return \"This is a healthy person!\"\n",
    "    else: return \"This person has high chances of having diabetics!\"\n",
    "\n",
    "st.title('Diabetes Prediction App')\n",
    "st.write('The data for the following example is originally from the National Institute of Diabetes and Digestive and Kidney Diseases and contains information on females at least 21 years old of Pima Indian heritage. This is a sample application and cannot be used as a substitute for real medical advice.')\n",
    "image = Image.open('diabetes_image.jpg')\n",
    "st.image(image, use_column_width=True)\n",
    "st.write('Please fill in the details of the person under consideration in the left sidebar and click on the button below!')\n",
    "\n",
    "age =           st.sidebar.number_input(\"Age in Years\", 1, 150, 25, 1)\n",
    "pregnancies =   st.sidebar.number_input(\"Number of Pregnancies\", 0, 20, 0, 1)\n",
    "glucose =       st.sidebar.slider(\"Glucose Level\", 0, 200, 25, 1)\n",
    "skinthickness = st.sidebar.slider(\"Skin Thickness\", 0, 99, 20, 1)\n",
    "bloodpressure = st.sidebar.slider('Blood Pressure', 0, 122, 69, 1)\n",
    "insulin =       st.sidebar.slider(\"Insulin\", 0, 846, 79, 1)\n",
    "bmi =           st.sidebar.slider(\"BMI\", 0.0, 67.1, 31.4, 0.1)\n",
    "dpf =           st.sidebar.slider(\"Diabetics Pedigree Function\", 0.000, 2.420, 0.471, 0.001)\n",
    "\n",
    "row = [pregnancies, glucose, bloodpressure, skinthickness, insulin, bmi, dpf, age]\n",
    "\n",
    "if (st.button('Find Health Status')):\n",
    "    feat_cols = ['Pregnancies', 'Glucose', 'BloodPressure', 'SkinThickness', 'Insulin', 'BMI', 'DiabetesPedigreeFunction', 'Age']\n",
    "\n",
    "    sc, model = load('models/scaler.joblib', 'models/model.joblib')\n",
    "    result = inference(row, sc, model, feat_cols)\n",
    "    st.write(result)"
   ]
  },
  {
   "cell_type": "code",
   "execution_count": null,
   "id": "670f2bb8",
   "metadata": {},
   "outputs": [],
   "source": []
  }
 ],
 "metadata": {
  "kernelspec": {
   "display_name": "Python 3 (ipykernel)",
   "language": "python",
   "name": "python3"
  },
  "language_info": {
   "codemirror_mode": {
    "name": "ipython",
    "version": 3
   },
   "file_extension": ".py",
   "mimetype": "text/x-python",
   "name": "python",
   "nbconvert_exporter": "python",
   "pygments_lexer": "ipython3",
   "version": "3.11.5"
  }
 },
 "nbformat": 4,
 "nbformat_minor": 5
}
